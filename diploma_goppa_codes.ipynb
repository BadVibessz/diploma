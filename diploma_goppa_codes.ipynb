{
 "cells": [
  {
   "cell_type": "markdown",
   "id": "f2b4b56f-292c-43b6-a548-4c25975ae5aa",
   "metadata": {},
   "source": [
    "# Дипломчик\n",
    "### Коды Гоппы"
   ]
  },
  {
   "cell_type": "code",
   "execution_count": 1,
   "id": "162b8e96-df91-427d-9afe-14d1d11aeec1",
   "metadata": {},
   "outputs": [],
   "source": [
    "from sage.all import *"
   ]
  },
  {
   "cell_type": "code",
   "execution_count": 36,
   "id": "4142206e-5404-4641-b71a-45c4608343f1",
   "metadata": {},
   "outputs": [],
   "source": [
    "class utils:\n",
    "    def random_permutation_matrix(n):\n",
    "        m = identity_matrix(n,n)\n",
    "        # todo: perform random swaps of rows and cols\n",
    "        return m\n"
   ]
  },
  {
   "cell_type": "code",
   "execution_count": 55,
   "id": "bf3d96fd-9b00-4e1e-9749-1d99f0c8a67b",
   "metadata": {},
   "outputs": [
    {
     "name": "stdout",
     "output_type": "stream",
     "text": [
      "0 0\n",
      "1 a\n",
      "2 a^2\n",
      "3 a^3\n",
      "4 a + 1\n",
      "5 a^2 + a\n",
      "6 a^3 + a^2\n",
      "7 a^3 + a + 1\n",
      "8 a^2 + 1\n",
      "9 a^3 + a\n",
      "10 a^2 + a + 1\n",
      "11 a^3 + a^2 + a\n",
      "12 a^3 + a^2 + a + 1\n",
      "13 a^3 + a^2 + 1\n",
      "14 a^3 + 1\n",
      "15 1\n",
      "[1 1 0 0 1 0 1 0 0 0 0 0 0 1 0 1]\n",
      "[1 1 0 1 1 1 0 0 0 0 1 0 0 0 1 1]\n",
      "[1 0 0 0 0 0 1 1 0 1 0 1 1 1 0 1]\n",
      "[1 0 1 1 0 0 0 1 1 1 0 0 0 0 1 1]\n",
      "[0 0 0 1 1 0 1 1 0 1 0 1 1 0 1 1]\n",
      "[0 1 1 1 0 0 0 0 1 0 1 0 0 0 0 1]\n",
      "[0 1 1 1 1 1 0 1 1 0 1 1 0 1 1 1]\n",
      "[0 0 0 1 0 1 1 1 1 0 1 1 1 1 0 1]\n",
      "\n",
      "\n",
      "[1 0 0 0 0 0 0 1 0 0 1 0 1 0 1 1]\n",
      "[0 1 0 0 0 0 0 1 0 0 0 1 1 0 0 1]\n",
      "[0 0 1 0 0 0 0 1 0 0 0 1 0 1 1 1]\n",
      "[0 0 0 1 0 0 0 1 0 1 0 0 0 1 0 1]\n",
      "[0 0 0 0 1 0 0 1 0 1 1 1 0 0 1 1]\n",
      "[0 0 0 0 0 1 0 0 0 0 1 1 1 1 1 1]\n",
      "[0 0 0 0 0 0 1 0 0 1 1 0 1 0 0 1]\n",
      "[0 0 0 0 0 0 0 0 1 1 0 0 1 1 1 1]\n",
      "[1 0 0 1 0 1 1 0]\n",
      "[1 1 0 1 1 0 0 1]\n",
      "[0 0 1 1 0 0 1 0]\n",
      "[1 1 0 0 0 1 1 0]\n",
      "[0 0 0 1 0 1 1 0]\n",
      "[0 0 0 1 0 0 1 0]\n",
      "[1 1 0 0 1 1 0 1]\n",
      "[0 0 1 1 0 0 1 1]\n",
      "[1 0 0 0 0 0 0 0 0 0 0 0 0 0 0 0]\n",
      "[0 1 0 0 0 0 0 0 0 0 0 0 0 0 0 0]\n",
      "[0 0 1 0 0 0 0 0 0 0 0 0 0 0 0 0]\n",
      "[0 0 0 1 0 0 0 0 0 0 0 0 0 0 0 0]\n",
      "[0 0 0 0 1 0 0 0 0 0 0 0 0 0 0 0]\n",
      "[0 0 0 0 0 1 0 0 0 0 0 0 0 0 0 0]\n",
      "[0 0 0 0 0 0 1 0 0 0 0 0 0 0 0 0]\n",
      "[0 0 0 0 0 0 0 1 0 0 0 0 0 0 0 0]\n",
      "[0 0 0 0 0 0 0 0 1 0 0 0 0 0 0 0]\n",
      "[0 0 0 0 0 0 0 0 0 1 0 0 0 0 0 0]\n",
      "[0 0 0 0 0 0 0 0 0 0 1 0 0 0 0 0]\n",
      "[0 0 0 0 0 0 0 0 0 0 0 1 0 0 0 0]\n",
      "[0 0 0 0 0 0 0 0 0 0 0 0 1 0 0 0]\n",
      "[0 0 0 0 0 0 0 0 0 0 0 0 0 1 0 0]\n",
      "[0 0 0 0 0 0 0 0 0 0 0 0 0 0 1 0]\n",
      "[0 0 0 0 0 0 0 0 0 0 0 0 0 0 0 1]\n",
      "[1 0 0 1 0 1 1 0 0 0 1 1 1 0 0 0]\n",
      "[1 1 0 1 1 0 0 0 1 1 0 0 1 0 1 1]\n",
      "[0 0 1 1 0 0 1 0 0 0 1 1 1 0 1 1]\n",
      "[1 1 0 0 0 1 1 0 0 1 1 0 0 1 0 0]\n",
      "[0 0 0 1 0 1 1 1 0 0 0 1 0 0 1 1]\n",
      "[0 0 0 1 0 0 1 1 0 0 1 0 1 1 0 0]\n",
      "[1 1 0 0 1 1 0 1 1 0 1 1 0 0 0 1]\n",
      "[0 0 1 1 0 0 1 0 1 1 1 1 0 1 0 0]\n"
     ]
    }
   ],
   "source": [
    "F = GF(2^4, 'a')\n",
    "\n",
    "for i,x in enumerate(F):  print(\"{} {}\".format(i, x))\n",
    "\n",
    "R.<x> = F[]\n",
    "RR.<a> = F\n",
    "g = x^2 + x + a^3\n",
    "L = [a for a in F.list() if g(a) != 0]\n",
    "C = codes.GoppaCode(g, L)\n",
    "\n",
    "print(C.parity_check_matrix())\n",
    "print('\\n')\n",
    "print(C.generator_matrix())\n",
    "\n",
    "G = C.generator_matrix()\n",
    "\n",
    "r = len(G.rows())\n",
    "c = len(G.columns())\n",
    "\n",
    "S = random_matrix(GF(2), r,r, algorithm='unimodular')\n",
    "print(S)\n",
    "\n",
    "P = utils.random_permutation_matrix(c)\n",
    "print(P)\n",
    "\n",
    "GG = S * G * P\n",
    "print(GG)"
   ]
  },
  {
   "cell_type": "code",
   "execution_count": null,
   "id": "77ecb0a2-1742-4ade-8d56-e017e0ff16a3",
   "metadata": {},
   "outputs": [],
   "source": []
  },
  {
   "cell_type": "code",
   "execution_count": null,
   "id": "15b2b870-a3b8-459e-899e-cb9144886a5c",
   "metadata": {},
   "outputs": [],
   "source": []
  },
  {
   "cell_type": "code",
   "execution_count": null,
   "id": "d1a54246-726c-454e-8053-c0fda74790a2",
   "metadata": {},
   "outputs": [],
   "source": []
  }
 ],
 "metadata": {
  "kernelspec": {
   "display_name": "SageMath 10.2",
   "language": "sage",
   "name": "sagemath"
  },
  "language_info": {
   "codemirror_mode": {
    "name": "ipython",
    "version": 3
   },
   "file_extension": ".py",
   "mimetype": "text/x-python",
   "name": "python",
   "nbconvert_exporter": "python",
   "pygments_lexer": "ipython3",
   "version": "3.11.6"
  }
 },
 "nbformat": 4,
 "nbformat_minor": 5
}
